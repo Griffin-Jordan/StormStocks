{
  "nbformat": 4,
  "nbformat_minor": 0,
  "metadata": {
    "colab": {
      "provenance": [],
      "authorship_tag": "ABX9TyMrhX6nbtVv1mxSqM0WGjRD",
      "include_colab_link": true
    },
    "kernelspec": {
      "name": "python3",
      "display_name": "Python 3"
    },
    "language_info": {
      "name": "python"
    }
  },
  "cells": [
    {
      "cell_type": "markdown",
      "metadata": {
        "id": "view-in-github",
        "colab_type": "text"
      },
      "source": [
        "<a href=\"https://colab.research.google.com/github/Griffin-Jordan/StormStocks/blob/main/SentimentScoreGenerator.ipynb\" target=\"_parent\"><img src=\"https://colab.research.google.com/assets/colab-badge.svg\" alt=\"Open In Colab\"/></a>"
      ]
    },
    {
      "cell_type": "code",
      "source": [
        "pip install vaderSentiment"
      ],
      "metadata": {
        "colab": {
          "base_uri": "https://localhost:8080/"
        },
        "id": "yqE2dCtI238f",
        "outputId": "a425ee02-d940-4d7a-a2be-700c2c99d753"
      },
      "execution_count": 2,
      "outputs": [
        {
          "output_type": "stream",
          "name": "stdout",
          "text": [
            "Collecting vaderSentiment\n",
            "  Downloading vaderSentiment-3.3.2-py2.py3-none-any.whl (125 kB)\n",
            "\u001b[2K     \u001b[90m━━━━━━━━━━━━━━━━━━━━━━━━━━━━━━━━━━━━━━━━\u001b[0m \u001b[32m126.0/126.0 kB\u001b[0m \u001b[31m3.0 MB/s\u001b[0m eta \u001b[36m0:00:00\u001b[0m\n",
            "\u001b[?25hRequirement already satisfied: requests in /usr/local/lib/python3.10/dist-packages (from vaderSentiment) (2.31.0)\n",
            "Requirement already satisfied: charset-normalizer<4,>=2 in /usr/local/lib/python3.10/dist-packages (from requests->vaderSentiment) (3.3.2)\n",
            "Requirement already satisfied: idna<4,>=2.5 in /usr/local/lib/python3.10/dist-packages (from requests->vaderSentiment) (3.6)\n",
            "Requirement already satisfied: urllib3<3,>=1.21.1 in /usr/local/lib/python3.10/dist-packages (from requests->vaderSentiment) (2.0.7)\n",
            "Requirement already satisfied: certifi>=2017.4.17 in /usr/local/lib/python3.10/dist-packages (from requests->vaderSentiment) (2024.2.2)\n",
            "Installing collected packages: vaderSentiment\n",
            "Successfully installed vaderSentiment-3.3.2\n"
          ]
        }
      ]
    },
    {
      "cell_type": "code",
      "execution_count": 8,
      "metadata": {
        "id": "5yWWX-KL1TEl"
      },
      "outputs": [],
      "source": [
        "import tweepy\n",
        "import nltk\n",
        "from vaderSentiment.vaderSentiment import SentimentIntensityAnalyzer\n",
        "import pandas as pd\n",
        "import numpy as np\n",
        "import yfinance as yf\n",
        "import tensorflow as tf\n",
        "import os"
      ]
    },
    {
      "cell_type": "code",
      "source": [
        "def get_sentiment_score(text):\n",
        "    analyzer = SentimentIntensityAnalyzer()\n",
        "    return analyzer.polarity_scores(text)['compound']\n",
        "\n"
      ],
      "metadata": {
        "id": "DzLnlpHc2Ghg"
      },
      "execution_count": 9,
      "outputs": []
    },
    {
      "cell_type": "code",
      "source": [
        "CONSUMER_KEY = '3qb91oRJIFG7PIm2FnQ9pTnM0'\n",
        "CONSUMER_SECRET = 'OYHnbLn8pCHOg4eIryNdt6zs8Yvh7sl6cpIJ9PrNRSAnqKB2jY'\n",
        "ACCESS_TOKEN = '4291061662-rmJE9d5tmMRrdlhY7rR9Mo94hO5F7CyAXyHUv3Z'\n",
        "ACCESS_TOKEN_SECRET = '2MNcNEf7I6qWLkdhEIm2XsLi2CzQNplpAaAh5EIbnP8ZW'\n",
        "\n",
        "# Authenticate to Twitter\n",
        "auth = tweepy.OAuthHandler(consumer_key=CONSUMER_KEY, consumer_secret=CONSUMER_SECRET)\n",
        "auth.set_access_token(ACCESS_TOKEN,ACCESS_TOKEN_SECRET)\n",
        "\n",
        "# build a api object, and the introduction about the rate limit will be cover in next lab\n",
        "api = tweepy.API(auth)\n",
        "tweets = []"
      ],
      "metadata": {
        "id": "6Ck2JZH95cdn"
      },
      "execution_count": 13,
      "outputs": []
    },
    {
      "cell_type": "code",
      "source": [
        "\n",
        "\n",
        "\n",
        "\n",
        "count = 15\n",
        "search_query = \"AAPL-filter:replies AND -filter:links\"\n",
        "try:\n",
        "    #The number of tweets we want to retrieved from the search\n",
        "    tweets = api.search_tweets(q=search_query, lang=\"en\", count=count, tweet_mode ='extended')\n",
        "    #Pulling Some attributes from the tweet\n",
        "    attributes_container = [[tweet.favorite_count, tweet.full_text] for tweet in tweets]\n",
        "    #Creation of column list to rename the columns in the dataframe\n",
        "    columns = [\"Number of Likes\", \"Tweet\"]\n",
        "    #Creation of Dataframe\n",
        "    tweets_df = pd.DataFrame(attributes_container, columns=columns)\n",
        "    #tweets_df.to_csv('/Users/JerryStrippoli/Downloads/DS440/FrontEnd/data/twitter_sentiment_{ticker}.csv', index=False)\n",
        "    top_10_indices = tweets_df['column_name'].nlargest(10).index\n",
        "    sorted_df = tweets_df.loc[top_10_indices].sort_values(by='column_name', ascending=False)\n",
        "    for index, row in sorted_df.iterrows():\n",
        "        sorted_df.at[index, \"Sentiment Score\"] = get_sentiment_score(row['Tweet'])\n",
        "    avg_sentiment_score = sorted_df['Sentiment Score'].mean()\n",
        "    if avg_sentiment_score<0:\n",
        "        emotion = \"Negative Sentiment\"\n",
        "        print(emotion)\n",
        "    elif avg_sentiment_score>0:\n",
        "        emotion= \"Positive Sentiment\"\n",
        "        print(emotion)\n",
        "    else:\n",
        "        emotion= \"Neutral Sentiment\"\n",
        "        print(emotion)\n",
        "\n",
        "except BaseException as e:\n",
        "    print('Status Failed On,',str(e))"
      ],
      "metadata": {
        "colab": {
          "base_uri": "https://localhost:8080/"
        },
        "id": "FVAsBINE2G4p",
        "outputId": "acce686a-6123-4384-9220-54beb91ce21a"
      },
      "execution_count": 14,
      "outputs": [
        {
          "output_type": "stream",
          "name": "stdout",
          "text": [
            "Status Failed On, 403 Forbidden\n",
            "453 - You currently have access to a subset of Twitter API v2 endpoints and limited v1.1 endpoints (e.g. media post, oauth) only. If you need access to this endpoint, you may need a different access level. You can learn more here: https://developer.twitter.com/en/portal/product\n"
          ]
        }
      ]
    },
    {
      "cell_type": "code",
      "source": [],
      "metadata": {
        "id": "OQWtNZ2V34m5"
      },
      "execution_count": null,
      "outputs": []
    }
  ]
}