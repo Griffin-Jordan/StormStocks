{
  "nbformat": 4,
  "nbformat_minor": 0,
  "metadata": {
    "colab": {
      "provenance": [],
      "authorship_tag": "ABX9TyNHIkvShiu5I4hpRCtzyN7D",
      "include_colab_link": true
    },
    "kernelspec": {
      "name": "python3",
      "display_name": "Python 3"
    },
    "language_info": {
      "name": "python"
    }
  },
  "cells": [
    {
      "cell_type": "markdown",
      "metadata": {
        "id": "view-in-github",
        "colab_type": "text"
      },
      "source": [
        "<a href=\"https://colab.research.google.com/github/Griffin-Jordan/StormStocks/blob/main/Reddit_Sentiment_Forecast2.ipynb\" target=\"_parent\"><img src=\"https://colab.research.google.com/assets/colab-badge.svg\" alt=\"Open In Colab\"/></a>"
      ]
    },
    {
      "cell_type": "code",
      "source": [
        "!pip install vaderSentiment"
      ],
      "metadata": {
        "colab": {
          "base_uri": "https://localhost:8080/"
        },
        "id": "Q4UdNyanfQ0g",
        "outputId": "22042e91-bb1c-4980-c34f-269e0b45992e"
      },
      "execution_count": 1,
      "outputs": [
        {
          "output_type": "stream",
          "name": "stdout",
          "text": [
            "Collecting vaderSentiment\n",
            "  Downloading vaderSentiment-3.3.2-py2.py3-none-any.whl (125 kB)\n",
            "\u001b[2K     \u001b[90m━━━━━━━━━━━━━━━━━━━━━━━━━━━━━━━━━━━━━━━━\u001b[0m \u001b[32m126.0/126.0 kB\u001b[0m \u001b[31m2.0 MB/s\u001b[0m eta \u001b[36m0:00:00\u001b[0m\n",
            "\u001b[?25hRequirement already satisfied: requests in /usr/local/lib/python3.10/dist-packages (from vaderSentiment) (2.31.0)\n",
            "Requirement already satisfied: charset-normalizer<4,>=2 in /usr/local/lib/python3.10/dist-packages (from requests->vaderSentiment) (3.3.2)\n",
            "Requirement already satisfied: idna<4,>=2.5 in /usr/local/lib/python3.10/dist-packages (from requests->vaderSentiment) (3.6)\n",
            "Requirement already satisfied: urllib3<3,>=1.21.1 in /usr/local/lib/python3.10/dist-packages (from requests->vaderSentiment) (2.0.7)\n",
            "Requirement already satisfied: certifi>=2017.4.17 in /usr/local/lib/python3.10/dist-packages (from requests->vaderSentiment) (2024.2.2)\n",
            "Installing collected packages: vaderSentiment\n",
            "Successfully installed vaderSentiment-3.3.2\n"
          ]
        }
      ]
    },
    {
      "cell_type": "code",
      "source": [
        "import pandas as pd\n",
        "from vaderSentiment.vaderSentiment import SentimentIntensityAnalyzer\n",
        "import pandas as pd\n",
        "import numpy as np\n",
        "import yfinance as yf\n",
        "import tensorflow as tf\n",
        "from scipy.stats import norm\n",
        "import matplotlib.pyplot as plt"
      ],
      "metadata": {
        "id": "ioHSFS2Tdbzn"
      },
      "execution_count": 2,
      "outputs": []
    },
    {
      "cell_type": "code",
      "execution_count": 3,
      "metadata": {
        "colab": {
          "base_uri": "https://localhost:8080/"
        },
        "id": "7mOpHIcfdaby",
        "outputId": "972c10ec-630b-478a-a3f3-b87049fe7f7d"
      },
      "outputs": [
        {
          "output_type": "stream",
          "name": "stdout",
          "text": [
            "Mounted at /content/drive\n"
          ]
        }
      ],
      "source": [
        "from google.colab import drive\n",
        "drive.mount('/content/drive')"
      ]
    },
    {
      "cell_type": "code",
      "source": [
        "file_path = '/content/drive/My Drive/DS440/unique_data.csv'"
      ],
      "metadata": {
        "id": "jtG2P_AZd1Kr"
      },
      "execution_count": 4,
      "outputs": []
    },
    {
      "cell_type": "code",
      "source": [],
      "metadata": {
        "id": "TiYGDNcZrwVo"
      },
      "execution_count": null,
      "outputs": []
    },
    {
      "cell_type": "code",
      "source": [
        "# Now, read the CSV file\n",
        "df = pd.read_csv(file_path)\n"
      ],
      "metadata": {
        "id": "qqLKjSsReQEn"
      },
      "execution_count": 5,
      "outputs": []
    },
    {
      "cell_type": "code",
      "source": [
        "df = pd.DataFrame(df)\n",
        "\n",
        "# Initialize the Sentiment Intensity Analyzer\n",
        "sia = SentimentIntensityAnalyzer()\n",
        "\n",
        "df['Title_Sentiment'] = df['Title'].astype(str).apply(lambda title: sia.polarity_scores(title)['compound'])\n",
        "\n",
        "# Convert 'Comments' to strings as well, to avoid TypeError with non-string types\n",
        "df['Comments_Sentiment'] = df['Comments'].astype(str).apply(lambda comments: sia.polarity_scores(comments)['compound'])\n",
        "# Display the updated DataFrame"
      ],
      "metadata": {
        "id": "bKXjcvn-rx06"
      },
      "execution_count": 6,
      "outputs": []
    },
    {
      "cell_type": "code",
      "source": [
        "average_scores = df.groupby('ticker')[['Title_Sentiment', 'Comments_Sentiment']].mean().reset_index()\n",
        "\n",
        "# Display the resulting DataFrame\n",
        "print(average_scores)"
      ],
      "metadata": {
        "id": "u0mLTLb6sBbF",
        "colab": {
          "base_uri": "https://localhost:8080/"
        },
        "outputId": "c2f7f703-1479-4f4c-9bd9-6f40b4db9861"
      },
      "execution_count": 50,
      "outputs": [
        {
          "output_type": "stream",
          "name": "stdout",
          "text": [
            "   ticker  Title_Sentiment  Comments_Sentiment\n",
            "0    AAPL         0.029044            0.189131\n",
            "1    AMGN         0.199160           -0.081920\n",
            "2     AXP         0.145717            0.230817\n",
            "3      BA         0.140808            0.090008\n",
            "4     CAT        -0.001673            0.034355\n",
            "5     CRM         0.052743            0.121829\n",
            "6    CSCO        -0.036733            0.225867\n",
            "7     CVX         0.211986           -0.046371\n",
            "8     DIS         0.085600            0.192279\n",
            "9     DOW        -0.121650           -0.007610\n",
            "10     GS        -0.082846            0.021669\n",
            "11     HD         0.083845            0.051827\n",
            "12    HON        -0.007150            0.050450\n",
            "13    IBM        -0.039478            0.145100\n",
            "14   INTC         0.034281            0.303488\n",
            "15    JNJ        -0.050455            0.269373\n",
            "16    JPM         0.010645            0.201682\n",
            "17     KO         0.080985            0.179577\n",
            "18    MCD        -0.070788            0.277087\n",
            "19    MMM         0.203560           -0.072250\n",
            "20    MRK         0.101150           -0.084500\n",
            "21   MSFT         0.050025            0.208492\n",
            "22    NKE        -0.047700            0.415933\n",
            "23     PG        -0.027558            0.091233\n",
            "24    TRV         0.025800            0.000000\n",
            "25    UNH         0.085925            0.228858\n",
            "26      V         0.104080            0.222070\n",
            "27     VZ        -0.012078            0.194011\n",
            "28    WBA         0.102629           -0.020643\n",
            "29    WMT         0.108100            0.270883\n"
          ]
        }
      ]
    },
    {
      "cell_type": "code",
      "source": [
        "# Normalize the average sentiment scores\n",
        "average_scores['Average_Sentiment'] = average_scores[['Title_Sentiment', 'Comments_Sentiment']].mean(axis=1)\n",
        "average_scores[\"norm_score\"] = average_scores['Average_Sentiment'] - average_scores['Average_Sentiment'].min()\n",
        "average_scores[\"norm_score\"] /= average_scores[\"norm_score\"].max()"
      ],
      "metadata": {
        "id": "VbhtK5w9sKst"
      },
      "execution_count": 54,
      "outputs": []
    },
    {
      "cell_type": "code",
      "source": [
        "import yfinance as yf\n",
        "import pandas as pd\n",
        "yf.pdr_override()\n",
        "\n",
        "# Define the ticker and the start date\n",
        "ticker = \"BA\"\n",
        "start_date = \"2023-1-1\"\n",
        "stock = yf.Ticker(ticker)\n",
        "data = stock.history(start=start_date)\n",
        "\n",
        "# Create a DataFrame to hold the 'Adj Close' values\n",
        "data = pd.DataFrame(data['Close'], columns=['Close'])\n",
        "\n",
        "# Display the first few rows to verify\n",
        "print(data.tail())"
      ],
      "metadata": {
        "colab": {
          "base_uri": "https://localhost:8080/"
        },
        "id": "wU4AYLxyJ4Uf",
        "outputId": "baaedfca-84d2-4df6-cddb-fa419fb8a396"
      },
      "execution_count": 55,
      "outputs": [
        {
          "output_type": "stream",
          "name": "stdout",
          "text": [
            "                                Close\n",
            "Date                                 \n",
            "2024-04-03 00:00:00-04:00  184.919998\n",
            "2024-04-04 00:00:00-04:00  183.289993\n",
            "2024-04-05 00:00:00-04:00  183.139999\n",
            "2024-04-08 00:00:00-04:00  181.559998\n",
            "2024-04-09 00:00:00-04:00  177.509995\n"
          ]
        }
      ]
    },
    {
      "cell_type": "code",
      "source": [
        "# ticker = \"AAPL\"\n",
        "# data = pd.DataFrame()\n",
        "# data[ticker] = pdr.DataReader(ticker, data_source= yf, start=\"2023-1-1\")['Adj Close']"
      ],
      "metadata": {
        "id": "vpGAUIMfcIj8"
      },
      "execution_count": 60,
      "outputs": []
    },
    {
      "cell_type": "code",
      "source": [
        "log_returns = np.log(1 + data.pct_change())\n",
        "u = log_returns.mean()\n",
        "var = log_returns.var()\n",
        "drift = u - (0.5 * var)\n",
        "stdev = log_returns.std()\n",
        "np.array(drift)\n",
        "x = np.random.rand(10,2)\n",
        "Z = norm.ppf(np.random.rand(10,2))\n",
        "t_intervals = 60\n",
        "iterations = 10\n",
        "daily_returns = np.exp(drift.values + stdev.values * norm.ppf(np.random.rand(t_intervals, iterations)))\n",
        "S0 = data.iloc[-1]\n",
        "price_list = np.zeros_like(daily_returns)\n",
        "price_list[0] = S0\n",
        "for t in range(1, t_intervals):\n",
        "  price_list[t] = price_list[t - 1] * daily_returns[t]"
      ],
      "metadata": {
        "id": "8j-0G5vwetUe"
      },
      "execution_count": 56,
      "outputs": []
    },
    {
      "cell_type": "code",
      "source": [
        "sentiment_weight = average_scores.loc[average_scores['ticker'] == ticker, 'norm_score'].iloc[0]\n",
        "\n",
        "\n",
        "# Adjust drift and standard deviation according to the sentiment weight\n",
        "# This is a simple example; the exact formula should be based on your investment model\n",
        "adjusted_drift = drift.values * sentiment_weight\n",
        "adjusted_stdev = stdev.values * np.sqrt(sentiment_weight)  # This is an assumption; adjust as needed\n",
        "\n",
        "# Calculate daily returns using the adjusted drift and volatility\n",
        "daily_returns = np.exp(adjusted_drift + adjusted_stdev * norm.ppf(np.random.rand(t_intervals, iterations)))\n",
        "\n",
        "# Assuming S0 is the last adjusted close price\n",
        "S0 = data.iloc[-1]\n",
        "price_list = np.zeros_like(daily_returns)\n",
        "price_list[0] = S0\n",
        "\n",
        "# Generate the price list for each day\n",
        "for t in range(1, t_intervals):\n",
        "    price_list[t] = price_list[t - 1] * daily_returns[t]\n",
        "average_price_path = price_list.mean(axis=1)"
      ],
      "metadata": {
        "id": "ivvrGTSwos4l"
      },
      "execution_count": 57,
      "outputs": []
    },
    {
      "cell_type": "code",
      "source": [
        "actual_data = data[-120:]\n",
        "\n",
        "# Last date from actual data\n",
        "last_actual_date = actual_data.index[-1]\n",
        "\n",
        "# Generate forecast dates starting from the day after the last actual date\n",
        "forecast_dates = pd.date_range(start=last_actual_date + pd.Timedelta(days=1), periods=60)\n",
        "\n",
        "# Assuming `forecasted_prices` is your 60-day forecast\n",
        "forecasted_prices = average_price_path\n",
        "\n",
        "forecast_series = pd.Series(forecasted_prices, index=forecast_dates)\n",
        "\n",
        "full_series = pd.concat([actual_data, forecast_series])"
      ],
      "metadata": {
        "id": "sjxfoLTtuK3Q"
      },
      "execution_count": 58,
      "outputs": []
    },
    {
      "cell_type": "code",
      "source": [
        "plt.figure(figsize=(14, 7))\n",
        "\n",
        "# Plot the actual data\n",
        "plt.plot(actual_data.index, actual_data, color='blue', label='Actual Prices')\n",
        "\n",
        "# Highlight the forecast period in a different color\n",
        "plt.plot(forecast_series.index, forecast_series, color='orange', label='Forecast')\n",
        "\n",
        "# Add labels, title, and legend\n",
        "plt.title(f\"Actual and Sentiment Weighted Monte Carlo Forecasted Prices for {ticker}\")\n",
        "plt.xlabel(\"Date\")\n",
        "plt.ylabel(\"Price\")\n",
        "plt.legend()\n",
        "\n",
        "# Show the plot\n",
        "plt.show()"
      ],
      "metadata": {
        "colab": {
          "base_uri": "https://localhost:8080/",
          "height": 641
        },
        "id": "B_pLxEkz2kk-",
        "outputId": "1ded6e20-94df-4680-ce8a-0f5b9dc9a0d4"
      },
      "execution_count": 59,
      "outputs": [
        {
          "output_type": "display_data",
          "data": {
            "text/plain": [
              "<Figure size 1400x700 with 1 Axes>"
            ],
            "image/png": "[encoded data removed]"
          },
          "metadata": {}
        }
      ]
    }
  ]
}